{
 "cells": [
  {
   "cell_type": "code",
   "execution_count": 1,
   "id": "c924b1a6",
   "metadata": {},
   "outputs": [
    {
     "name": "stdout",
     "output_type": "stream",
     "text": [
      "13\n",
      "7\n",
      "30\n",
      "3.3333333333333335\n",
      "3\n",
      "1\n",
      "1000\n"
     ]
    }
   ],
   "source": [
    "#Operator Aritmatika\n",
    "a, b = 10, 3\n",
    "print(a + b)  # Penjumlahan\n",
    "print(a - b)  # Pengurangan\n",
    "print(a * b)  # Perkalian\n",
    "print(a / b)  # Pembagian (hasil float)\n",
    "print(a // b) # Pembagian (bulat)\n",
    "print(a % b)  # Sisa bagi\n",
    "print(a ** b) # Pangkat\n"
   ]
  },
  {
   "cell_type": "code",
   "execution_count": 2,
   "id": "c510cf2d",
   "metadata": {},
   "outputs": [
    {
     "name": "stdout",
     "output_type": "stream",
     "text": [
      "False\n",
      "True\n",
      "True\n",
      "False\n"
     ]
    }
   ],
   "source": [
    "#Operator Perbandingan\n",
    "print(a == b)\n",
    "print(a != b)\n",
    "print(a > b)\n",
    "print(a < b)"
   ]
  },
  {
   "cell_type": "code",
   "execution_count": null,
   "id": "22bb3637",
   "metadata": {},
   "outputs": [],
   "source": [
    "#operator Logika\n",
    "x, y = True, False\n",
    "print(x and y)\n",
    "print(x or y)\n",
    "print(not x)\n"
   ]
  },
  {
   "cell_type": "code",
   "execution_count": null,
   "id": "c3611cd4",
   "metadata": {},
   "outputs": [],
   "source": []
  }
 ],
 "metadata": {
  "kernelspec": {
   "display_name": "myenv",
   "language": "python",
   "name": "python3"
  },
  "language_info": {
   "codemirror_mode": {
    "name": "ipython",
    "version": 3
   },
   "file_extension": ".py",
   "mimetype": "text/x-python",
   "name": "python",
   "nbconvert_exporter": "python",
   "pygments_lexer": "ipython3",
   "version": "3.11.7"
  }
 },
 "nbformat": 4,
 "nbformat_minor": 5
}
